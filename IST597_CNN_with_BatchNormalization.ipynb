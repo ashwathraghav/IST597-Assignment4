{
  "cells": [
    {
      "cell_type": "code",
      "execution_count": 27,
      "metadata": {
        "id": "SK3DMbzThNBc"
      },
      "outputs": [],
      "source": [
        "import tensorflow as tf\n",
        "import numpy as np\n",
        "import matplotlib.pyplot as plt\n",
        "\n",
        "np.random.seed(6447) #Last 4 digits of my emailID\n",
        "tf.random.set_seed(6447) #Last 4 digits of my emailID"
      ]
    },
    {
      "cell_type": "code",
      "execution_count": 28,
      "metadata": {
        "colab": {
          "base_uri": "https://localhost:8080/"
        },
        "id": "WWo3ho3whTWU",
        "outputId": "b14b3a96-4518-4f14-f04b-68b81e5a59f4"
      },
      "outputs": [
        {
          "output_type": "stream",
          "name": "stdout",
          "text": [
            "(50000, 28, 28, 1)\n",
            "(10000, 28, 28, 1)\n",
            "(10000, 28, 28, 1)\n",
            "391\n",
            "79\n"
          ]
        }
      ],
      "source": [
        "(x_train, y_train), (x_test, y_test) = tf.keras.datasets.fashion_mnist.load_data()\n",
        "x_val = x_train[50000:60000]\n",
        "x_train = x_train[0:50000]\n",
        "y_val = y_train[50000:60000]\n",
        "y_train = y_train[0:50000]\n",
        "x_train = x_train.astype(np.float32).reshape(-1,28,28,1) / 255.0\n",
        "x_val = x_val.astype(np.float32).reshape(-1,28,28,1) / 255.0\n",
        "x_test = x_test.astype(np.float32).reshape(-1,28,28,1) / 255.0\n",
        "y_train = tf.one_hot(y_train, depth=10)\n",
        "y_val = tf.one_hot(y_val, depth=10)\n",
        "y_test = tf.one_hot(y_test, depth=10)\n",
        "print(x_train.shape)\n",
        "print(x_test.shape)\n",
        "print(x_val.shape)\n",
        "train_dataset = tf.data.Dataset.from_tensor_slices((x_train, y_train))\n",
        "train_dataset = train_dataset.shuffle(buffer_size=1024).batch(128)\n",
        "train_dataset_full = train_dataset.shuffle(buffer_size=1024).batch(len(train_dataset))\n",
        "val_dataset = tf.data.Dataset.from_tensor_slices((x_val, y_val))\n",
        "val_dataset = val_dataset.batch(128)\n",
        "test_dataset = tf.data.Dataset.from_tensor_slices((x_test, y_test))\n",
        "test_dataset = test_dataset.batch(128)\n",
        "print(len(train_dataset))\n",
        "print(len(test_dataset))"
      ]
    },
    {
      "cell_type": "code",
      "execution_count": 30,
      "metadata": {
        "id": "LIjh52BataYG"
      },
      "outputs": [],
      "source": [
        "class BatchNorm(tf.keras.layers.Layer):\n",
        "    def __init__(self, dim, epsilon=1e-4, momentum=0.99):\n",
        "        super(BatchNorm, self).__init__()\n",
        "\n",
        "        self.epsilon = epsilon\n",
        "        self.momentum = momentum\n",
        "        self.dim = dim\n",
        "\n",
        "        self.it_call = 0\n",
        "        self.batch_size = 0\n",
        "\n",
        "        self.mu = self.add_weight(\"mu\", shape=[self.dim,], \n",
        "                                initializer=\"zeros\",\n",
        "                                trainable=False)\n",
        "        self.var = self.add_weight(\"var\", shape=[self.dim,], \n",
        "                                   initializer=\"zeros\",\n",
        "                                   trainable=False)\n",
        "\n",
        "        self.gamma = self.add_weight(\"gamma\", shape=[1, self.dim],\n",
        "                                     initializer=\"random_normal\",\n",
        "                                     trainable=True)\n",
        "        self.beta = self.add_weight(\"beta\", shape=[1, self.dim],\n",
        "                                    initializer=\"random_normal\",\n",
        "                                    trainable=True)\n",
        "        \n",
        "    \n",
        "    def call(self, inputs, is_training):\n",
        "        \"\"\" Ankur Mali's pdf states the formula of BN(x) as:\n",
        "        IntermediateOP(x) = (x - mean) / sqrt(variance + epsilon)\n",
        "        BN(x) = gamma * IntermediateOP(x) + beta\n",
        "        \"\"\"\n",
        "\n",
        "        self.it_call += 1\n",
        "\n",
        "        if is_training:   # is_training == True: The model is in training mode, calculate batch mean and variance \n",
        "            if self.batch_size == 0:\n",
        "                self.batch_size = inputs.shape[0]\n",
        "            \n",
        "            batch_mu = tf.math.reduce_mean(inputs, axis=(0,1,2))\n",
        "            batch_var = tf.math.reduce_variance(inputs, axis=(0,1,2))\n",
        "            \n",
        "            normalized_inputs = tf.math.divide((inputs - batch_mu), tf.math.sqrt(batch_var + self.epsilon))\n",
        "            bn_inputs = tf.math.multiply(self.gamma, normalized_inputs) + self.beta\n",
        "\n",
        "            # update mu and var\n",
        "            if inputs.shape[0] == self.batch_size:\n",
        "                running_mu = batch_mu\n",
        "                running_var = batch_var\n",
        "            else:\n",
        "                # the last batch in training may have sample less than batch size\n",
        "                running_mu = batch_mu / inputs.shape[0] * self.batch_size\n",
        "                running_var = batch_var / inputs.shape[0] * self.batch_size\n",
        "            \n",
        "            cur_mu = running_mu * (self.momentum / self.it_call) + self.mu * (1 - (self.momentum/self.it_call))\n",
        "            self.mu.assign(cur_mu)\n",
        "            cur_var = running_var * (self.momentum / self.it_call) + self.var * (1 - (self.momentum/self.it_call))\n",
        "            self.var.assign(cur_var)\n",
        "\n",
        "\n",
        "        else: # is_training == False. The model is in testing mode, calculate population mean and variance.\n",
        "            normalized_inputs = tf.math.divide((inputs - self.mu), tf.math.sqrt(self.var + self.epsilon))\n",
        "            bn_inputs = tf.math.multiply(self.gamma, normalized_inputs) + self.beta\n",
        "        \n",
        "        return bn_inputs"
      ]
    },
    {
      "cell_type": "markdown",
      "metadata": {
        "id": "oRXM6_Bpq_Wz"
      },
      "source": [
        "##**Model 1: Performing Batch Normalization After RELU**"
      ]
    },
    {
      "cell_type": "code",
      "execution_count": 46,
      "metadata": {
        "id": "KGjSk_lMhb7V"
      },
      "outputs": [],
      "source": [
        "class ImageRecognitionCNN(tf.keras.Model):\n",
        "    \n",
        "    def __init__(self, num_classes, device='cpu:0', checkpoint_directory=None):\n",
        "        ''' Define the parameterized layers used during forward-pass, the device\n",
        "            where you would like to run the computation (GPU, TPU, CPU) on and the checkpoint\n",
        "            directory.\n",
        "            \n",
        "            Args:\n",
        "                num_classes: the number of labels in the network.\n",
        "                device: string, 'cpu:n' or 'gpu:n' (n can vary). Default, 'cpu:0'.\n",
        "                checkpoint_directory: the directory where you would like to save or \n",
        "                                      restore a model.\n",
        "        ''' \n",
        "        super(ImageRecognitionCNN, self).__init__()\n",
        "        \n",
        "        # Initialize layers\n",
        "        self.conv1 = tf.keras.layers.Conv2D(64, 3, padding='same', activation=None)\n",
        "        self.conv2 = tf.keras.layers.Conv2D(64, 3,padding='same', activation=None)\n",
        "        self.pool1 = tf.keras.layers.MaxPool2D()\n",
        "        self.conv3 = tf.keras.layers.Conv2D(64, 3, padding='same', activation=None)\n",
        "        self.conv4 = tf.keras.layers.Conv2D(64, 3, padding='same', activation=None)\n",
        "        self.BatchNorm=BatchNorm(64)\n",
        "        # self.pool2 = tf.keras.layers.MaxPool2D()\n",
        "        # self.conv5 = tf.keras.layers.Conv2D(64, 3, padding='same', activation=None)\n",
        "        # self.pool2 = tf.keras.layers.MaxPool2D()\n",
        "        # self.conv6 = tf.keras.layers.Conv2D(64, 3, 2, padding='same', activation=None)\n",
        "        # self.conv7 = tf.keras.layers.Conv2D(64, 1, padding='same', activation=None)\n",
        "        self.conv8 = tf.keras.layers.Conv2D(num_classes, 1, padding='same', activation=None)\n",
        "        \n",
        "        # Define the device \n",
        "        self.device = device\n",
        "        \n",
        "        # Define the checkpoint directory\n",
        "        self.checkpoint_directory = checkpoint_directory\n",
        "        self.acc = tf.keras.metrics.Accuracy()\n",
        "\n",
        "\n",
        "    def predict(self, images, training):\n",
        "        \"\"\" Predicts the probability of each class, based on the input sample.\n",
        "            \n",
        "            Args:\n",
        "                images: 4D tensor. Either an image or a batch of images.\n",
        "                training: Boolean. Either the network is predicting in\n",
        "                          training mode or not.\n",
        "                         \n",
        "\n",
        "\n",
        "        \"\"\"\n",
        "        x = self.conv1(images)\n",
        "\n",
        "\n",
        "        # Layer 1:\n",
        "        x = tf.nn.relu(x)\n",
        "        x=self.BatchNorm(x,training)\n",
        "        x = self.pool1(x)\n",
        "        x = self.conv2(x)\n",
        "      \n",
        "        # Layer 2:\n",
        "        x = tf.nn.relu(x)\n",
        "        x=self.BatchNorm(x,training)\n",
        "        x = self.pool1(x)\n",
        "        x = self.conv3(x)\n",
        "\n",
        "        #Layer 3:\n",
        "        x = tf.nn.relu(x)\n",
        "        x=self.BatchNorm(x,training)\n",
        "        x = self.pool1(x)\n",
        "        x = self.conv4(x)\n",
        "\n",
        "        # Layer 4:\n",
        "        x = tf.nn.relu(x)\n",
        "        x=self.BatchNorm(x,training)\n",
        "        x = self.pool1(x)\n",
        "        x = self.conv8(x)\n",
        "\n",
        "\n",
        "        x = tf.reshape(x, (-1, 1, 10)) # Shape mismatch error if x has a shape of 128. We need to reshape it to 10 (# of O/P class = 10)\n",
        "\n",
        "        return x\n",
        "\n",
        "\n",
        "\n",
        "    def loss_fn(self, images, target, training):\n",
        "        \"\"\" Defines the loss function used during \n",
        "            training.         \n",
        "        \"\"\"\n",
        "        preds = self.predict(images, training)\n",
        "        loss = tf.nn.softmax_cross_entropy_with_logits(labels=target, logits=preds)\n",
        "        return loss\n",
        "\n",
        "\n",
        "    def grads_fn(self, images, target, training):\n",
        "        \"\"\" Dynamically computes the gradients of the loss value\n",
        "            with respect to the parameters of the model, in each\n",
        "            forward pass.\n",
        "        \"\"\"\n",
        "        with tf.GradientTape() as tape:\n",
        "            loss = self.loss_fn(images, target, training)\n",
        "        return tape.gradient(loss, self.variables)\n",
        "    \n",
        "    def restore_model(self):\n",
        "        \"\"\" Function to restore trained model.\n",
        "        \"\"\"\n",
        "        with tf.device(self.device):\n",
        "            # Run the model once to initialize variables\n",
        "            dummy_input = tf.constant(tf.zeros((1,48,48,1)))\n",
        "            dummy_pred = self.predict(dummy_input, training=True)\n",
        "            # Restore the variables of the model\n",
        "            saver = tf.Saver(self.variables)\n",
        "            saver.restore(tf.train.latest_checkpoint\n",
        "                          (self.checkpoint_directory))\n",
        "    \n",
        "    def save_model(self, global_step=0):\n",
        "        \"\"\" Function to save trained model.\n",
        "        \"\"\"\n",
        "        tf.Saver(self.variables).save(self.checkpoint_directory, \n",
        "                                       global_step=global_step)   \n",
        "    \n",
        "\n",
        "    def compute_accuracy(self, images, targets,isittraining):\n",
        "        \"\"\" Compute the accuracy on the input data.\n",
        "        \"\"\"\n",
        "        with tf.device(self.device):\n",
        "            \n",
        "            # Predict the probability of each class\n",
        "            logits = self.predict(images, training=isittraining)\n",
        "            # Select the class with the highest probability\n",
        "            \n",
        "            logits = tf.nn.softmax(logits)\n",
        "            logits = tf.reshape(logits, [-1, 10])\n",
        "            targets = tf.reshape(targets, [-1,10])\n",
        "            preds = tf.argmax(logits, axis=1)\n",
        "            goal = tf.argmax(targets, axis=1)\n",
        "            self.acc.update_state(goal, preds)\n",
        "            # Compute the accuracy\n",
        "            result = self.acc.result().numpy()\n",
        "        return result\n",
        "\n",
        "  \n",
        "    def fit_fc(self, training_data, eval_data, optimizer, isittraining, num_epochs=500, early_stopping_rounds=10, verbose=10, train_from_scratch=False):\n",
        "        \"\"\" Function to train the model, using the selected optimizer and\n",
        "            for the desired number of epochs. You can either train from scratch\n",
        "            or load the latest model trained. Early stopping is used in order to\n",
        "            mitigate the risk of overfitting the network.\n",
        "            \n",
        "            Args:\n",
        "                training_data: the data you would like to train the model on.\n",
        "                                Must be in the tf.data.Dataset format.\n",
        "                eval_data: the data you would like to evaluate the model on.\n",
        "                            Must be in the tf.data.Dataset format.\n",
        "                optimizer: the optimizer used during training.\n",
        "                num_epochs: the maximum number of iterations you would like to \n",
        "                            train the model.\n",
        "                early_stopping_rounds: stop training if the loss on the eval \n",
        "                                       dataset does not decrease after n epochs.\n",
        "                verbose: int. Specify how often to print the loss value of the network.\n",
        "                train_from_scratch: boolean. Whether to initialize variables of the\n",
        "                                    the last trained model or initialize them\n",
        "                                    randomly.\n",
        "        \"\"\" \n",
        "    \n",
        "        if train_from_scratch==False:\n",
        "            self.restore_model()\n",
        "        \n",
        "        # Initialize best loss. This variable will store the lowest loss on the\n",
        "        # eval dataset.\n",
        "        best_loss = 999\n",
        "        \n",
        "        # Initialize classes to update the mean loss of train and eval\n",
        "        train_loss = tf.keras.metrics.Mean('train_loss')\n",
        "        eval_loss = tf.keras.metrics.Mean('eval_loss')\n",
        "        acc_train = tf.keras.metrics.Mean('train_acc')\n",
        "        acc_val = tf.keras.metrics.Mean('val_acc')\n",
        "        \n",
        "        # Initialize dictionary to store the loss history\n",
        "        self.history = {}\n",
        "        self.history['train_loss'] = []\n",
        "        self.history['eval_loss'] = []\n",
        "        self.history['train_acc'] = []\n",
        "        self.history['val_acc'] = []\n",
        "        \n",
        "        # Begin training\n",
        "        with tf.device(self.device):\n",
        "            for i in range(num_epochs):\n",
        "                # Training with gradient descent\n",
        "                #training_data_x = training_data.shuffle(buffer_size=1024).batch(128)\n",
        "                for step, (images, target) in enumerate(training_data):\n",
        "                    grads = self.grads_fn(images, target, isittraining)\n",
        "                    optimizer.apply_gradients(zip(grads, self.variables))\n",
        "                    \n",
        "                # Compute the loss on the training data after one epoch\n",
        "                for step, (images, target) in enumerate(training_data):\n",
        "                    loss = self.loss_fn(images, target, isittraining)\n",
        "                    accuracy = self.compute_accuracy(images,target,isittraining)\n",
        "                    acc_train(accuracy)\n",
        "                    train_loss(loss)\n",
        "                self.history['train_loss'].append(train_loss.result().numpy())\n",
        "                self.history['train_acc'].append(acc_train.result().numpy())\n",
        "                # Reset metrics\n",
        "                train_loss.reset_states()\n",
        "                acc_train.reset_states()\n",
        "                \n",
        "                # Compute the loss on the eval data after one epoch\n",
        "                for step, (images, target) in enumerate(eval_data):\n",
        "                    loss = self.loss_fn(images, target, isittraining)\n",
        "                    accuracy = self.compute_accuracy(images,target,isittraining)\n",
        "                    acc_val(accuracy)\n",
        "                    eval_loss(loss)\n",
        "                self.history['eval_loss'].append(eval_loss.result().numpy())\n",
        "                self.history['val_acc'].append(acc_val.result().numpy())\n",
        "                # Reset metrics\n",
        "                eval_loss.reset_states()\n",
        "                acc_val.reset_states()\n",
        "                \n",
        "                # Print train and eval losses\n",
        "                if (i==0) | ((i+1)%verbose==0):\n",
        "                    print('Train loss at epoch %d: ' %(i+1), self.history['train_loss'][-1])\n",
        "                    print('Train Acc at epoch %d: ' %(i+1), self.history['train_acc'][-1])\n",
        "                    \n",
        "                    print('Eval loss at epoch %d: ' %(i+1), self.history['eval_loss'][-1])\n",
        "                    print('Eval Acc at epoch %d: ' %(i+1), self.history['val_acc'][-1])\n",
        "\n",
        "                # Check for early stopping\n",
        "                if self.history['eval_loss'][-1]<best_loss:\n",
        "                    best_loss = self.history['eval_loss'][-1]\n",
        "                    count = early_stopping_rounds\n",
        "                else:\n",
        "                    count -= 1\n",
        "                if count==0:\n",
        "                    break"
      ]
    },
    {
      "cell_type": "code",
      "execution_count": 47,
      "metadata": {
        "id": "4a-iuiHIypry"
      },
      "outputs": [],
      "source": [
        "# Specify the path where you want to save/restore the trained variables.\n",
        "checkpoint_directory = '/content/sample_data/model_checkpoint'\n",
        "\n",
        "# Use the GPU if available.\n",
        "device = 'gpu:0'\n",
        "\n",
        "# Define optimizer.\n",
        "optimizer = tf.compat.v1.train.AdamOptimizer(learning_rate=1e-4)\n",
        "\n",
        "# Instantiate model. This doesn't initialize the variables yet.\n",
        "model = ImageRecognitionCNN(num_classes=10, device=device, \n",
        "                              checkpoint_directory=checkpoint_directory)\n",
        "\n",
        "#model = ImageRecognitionCNN(num_classes=7, device=device)"
      ]
    },
    {
      "cell_type": "markdown",
      "source": [
        "**First Run : Let's train the model**"
      ],
      "metadata": {
        "id": "o3imOU07j0Sd"
      }
    },
    {
      "cell_type": "code",
      "execution_count": 33,
      "metadata": {
        "colab": {
          "base_uri": "https://localhost:8080/"
        },
        "id": "t8uHLAyoeJTx",
        "outputId": "4f7d06ae-c406-4cec-c1e0-0d2b0f6a6478"
      },
      "outputs": [
        {
          "output_type": "stream",
          "name": "stdout",
          "text": [
            "Train loss at epoch 1:  1.1803046\n",
            "Train Acc at epoch 1:  0.80632997\n",
            "Eval loss at epoch 1:  1.1870629\n",
            "Eval Acc at epoch 1:  0.8076777\n",
            "Train loss at epoch 2:  0.63364905\n",
            "Train Acc at epoch 2:  0.8215807\n",
            "Eval loss at epoch 2:  0.645364\n",
            "Eval Acc at epoch 2:  0.83175516\n",
            "Train loss at epoch 3:  0.42702672\n",
            "Train Acc at epoch 3:  0.8415694\n",
            "Eval loss at epoch 3:  0.44613433\n",
            "Eval Acc at epoch 3:  0.84954536\n",
            "Train loss at epoch 4:  0.33365503\n",
            "Train Acc at epoch 4:  0.8565586\n",
            "Eval loss at epoch 4:  0.35934246\n",
            "Eval Acc at epoch 4:  0.8626743\n",
            "Train loss at epoch 5:  0.28729144\n",
            "Train Acc at epoch 5:  0.86763483\n",
            "Eval loss at epoch 5:  0.31999052\n",
            "Eval Acc at epoch 5:  0.87211597\n",
            "Train loss at epoch 6:  0.25234586\n",
            "Train Acc at epoch 6:  0.8760852\n",
            "Eval loss at epoch 6:  0.2928133\n",
            "Eval Acc at epoch 6:  0.8797713\n",
            "Train loss at epoch 7:  0.228074\n",
            "Train Acc at epoch 7:  0.8830151\n",
            "Eval loss at epoch 7:  0.27508155\n",
            "Eval Acc at epoch 7:  0.8861132\n",
            "Train loss at epoch 8:  0.21002781\n",
            "Train Acc at epoch 8:  0.8888046\n",
            "Eval loss at epoch 8:  0.2631069\n",
            "Eval Acc at epoch 8:  0.89139026\n",
            "Train loss at epoch 9:  0.19064207\n",
            "Train Acc at epoch 9:  0.8937612\n",
            "Eval loss at epoch 9:  0.25320113\n",
            "Eval Acc at epoch 9:  0.89614296\n",
            "Train loss at epoch 10:  0.17875639\n",
            "Train Acc at epoch 10:  0.8982015\n",
            "Eval loss at epoch 10:  0.24830861\n",
            "Eval Acc at epoch 10:  0.9002661\n",
            "Train loss at epoch 11:  0.16657695\n",
            "Train Acc at epoch 11:  0.9021513\n",
            "Eval loss at epoch 11:  0.24326143\n",
            "Eval Acc at epoch 11:  0.9040216\n",
            "Train loss at epoch 12:  0.15928613\n",
            "Train Acc at epoch 12:  0.90565634\n",
            "Eval loss at epoch 12:  0.24488872\n",
            "Eval Acc at epoch 12:  0.9072983\n",
            "Train loss at epoch 13:  0.148975\n",
            "Train Acc at epoch 13:  0.90880996\n",
            "Eval loss at epoch 13:  0.24392311\n",
            "Eval Acc at epoch 13:  0.91035426\n"
          ]
        }
      ],
      "source": [
        "# Train and Test model\n",
        "isittraining = True\n",
        "acc_test = tf.keras.metrics.Mean('test_acc')\n",
        "\n",
        "seeds = np.random.randint(12,45,3)\n",
        "test_accuracy = []\n",
        "\n",
        "# for i in seeds:\n",
        "  # Instantiate model. This doesn't initialize the variables yet.\n",
        "model = ImageRecognitionCNN(num_classes=10, device=device, \n",
        "                              checkpoint_directory=checkpoint_directory)\n",
        "# print('Trial on random seed:',i)\n",
        "model.fit_fc(train_dataset, val_dataset, optimizer, isittraining, num_epochs=20, \n",
        "          early_stopping_rounds=2, verbose=1, train_from_scratch=True)\n",
        "\n",
        "# Compute the loss on the eval data after one epoch\n",
        "for step, (images, target) in enumerate(test_dataset):\n",
        "  loss = model.loss_fn(images, target, isittraining)\n",
        "  accuracy = model.compute_accuracy(images,target,isittraining)\n",
        "  acc_test(accuracy)\n",
        "  test_accuracy.append(acc_test.result().numpy())\n",
        "\n",
        "  acc_test.reset_states()\n"
      ]
    },
    {
      "cell_type": "markdown",
      "source": [
        "The model stops converging at Epoch 13. [Early Stopping comes into play here]\n",
        "\n",
        "\n",
        "Final Validation Acc: 0.9103"
      ],
      "metadata": {
        "id": "k1aBZOdvNT_2"
      }
    },
    {
      "cell_type": "markdown",
      "source": [
        "**Let's test the model and check the test accuracy**"
      ],
      "metadata": {
        "id": "5RAfnUfyilOl"
      }
    },
    {
      "cell_type": "code",
      "source": [
        "isittraining = False\n",
        "for step, (images, target) in enumerate(test_dataset):\n",
        "  loss = model.loss_fn(images, target, isittraining)\n",
        "  accuracy = model.compute_accuracy(images,target,isittraining)\n",
        "  acc_test(accuracy)\n",
        "  test_accuracy.append(acc_test.result().numpy())\n",
        "\n",
        "  acc_test.reset_states()"
      ],
      "metadata": {
        "id": "1oEo8ViSKJgX"
      },
      "execution_count": 35,
      "outputs": []
    },
    {
      "cell_type": "code",
      "execution_count": 36,
      "metadata": {
        "id": "58JU-73ZfVWg"
      },
      "outputs": [],
      "source": [
        "test_mean = np.mean(test_accuracy)"
      ]
    },
    {
      "cell_type": "code",
      "execution_count": 37,
      "metadata": {
        "colab": {
          "base_uri": "https://localhost:8080/"
        },
        "id": "6vlE0A9pfVUh",
        "outputId": "f6b737e9-b87f-4b9b-a20b-c448c2df86d9"
      },
      "outputs": [
        {
          "output_type": "execute_result",
          "data": {
            "text/plain": [
              "0.90808415"
            ]
          },
          "metadata": {},
          "execution_count": 37
        }
      ],
      "source": [
        "test_mean"
      ]
    },
    {
      "cell_type": "code",
      "execution_count": 38,
      "metadata": {
        "colab": {
          "base_uri": "https://localhost:8080/",
          "height": 295
        },
        "id": "i_0o0renrrfE",
        "outputId": "df72d367-5abe-4bfd-ed7d-40d711f7e1bf"
      },
      "outputs": [
        {
          "output_type": "display_data",
          "data": {
            "text/plain": [
              "<Figure size 432x288 with 1 Axes>"
            ],
            "image/png": "[encoded data removed]"
          },
          "metadata": {
            "needs_background": "light"
          }
        }
      ],
      "source": [
        "\n",
        "loss_train = model.history['train_loss']\n",
        "loss_val = model.history['eval_loss']\n",
        "epochs = range(len(model.history['eval_loss']))\n",
        "plt.plot(epochs, loss_train, 'g', label='train_loss')\n",
        "plt.plot(epochs, loss_val, 'b', label='validation loss')\n",
        "plt.title('Training and Validation loss')\n",
        "plt.xlabel('Epochs')\n",
        "plt.ylabel('Loss')\n",
        "plt.legend()\n",
        "plt.show()"
      ]
    },
    {
      "cell_type": "markdown",
      "source": [
        "**Second Run : Let's train the model**"
      ],
      "metadata": {
        "id": "Hq3kTcXGwCTT"
      }
    },
    {
      "cell_type": "code",
      "source": [
        "# Train and Test model\n",
        "isittraining = True\n",
        "acc_test = tf.keras.metrics.Mean('test_acc')\n",
        "\n",
        "seeds = np.random.randint(12,45,3)\n",
        "test_accuracy = []\n",
        "\n",
        "# for i in seeds:\n",
        "  # Instantiate model. This doesn't initialize the variables yet.\n",
        "model = ImageRecognitionCNN(num_classes=10, device=device, \n",
        "                              checkpoint_directory=checkpoint_directory)\n",
        "# print('Trial on random seed:',i)\n",
        "model.fit_fc(train_dataset, val_dataset, optimizer, isittraining, num_epochs=20, \n",
        "          early_stopping_rounds=2, verbose=1, train_from_scratch=True)\n",
        "\n",
        "# Compute the loss on the eval data after one epoch\n",
        "for step, (images, target) in enumerate(test_dataset):\n",
        "  loss = model.loss_fn(images, target, isittraining)\n",
        "  accuracy = model.compute_accuracy(images,target,isittraining)\n",
        "  acc_test(accuracy)\n",
        "  test_accuracy.append(acc_test.result().numpy())\n",
        "\n",
        "  acc_test.reset_states()\n"
      ],
      "metadata": {
        "colab": {
          "base_uri": "https://localhost:8080/"
        },
        "id": "wl84RHXPwBPB",
        "outputId": "56620cc0-e678-46b8-a11e-7cc9c16a969c"
      },
      "execution_count": 48,
      "outputs": [
        {
          "output_type": "stream",
          "name": "stdout",
          "text": [
            "Train loss at epoch 1:  1.2118716\n",
            "Train Acc at epoch 1:  0.8092149\n",
            "Eval loss at epoch 1:  1.2165918\n",
            "Eval Acc at epoch 1:  0.80973893\n",
            "Train loss at epoch 2:  0.6435711\n",
            "Train Acc at epoch 2:  0.8243849\n",
            "Eval loss at epoch 2:  0.65477705\n",
            "Eval Acc at epoch 2:  0.8356071\n",
            "Train loss at epoch 3:  0.4256183\n",
            "Train Acc at epoch 3:  0.84516937\n",
            "Eval loss at epoch 3:  0.44119614\n",
            "Eval Acc at epoch 3:  0.85308605\n",
            "Train loss at epoch 4:  0.33543035\n",
            "Train Acc at epoch 4:  0.85968673\n",
            "Eval loss at epoch 4:  0.35692707\n",
            "Eval Acc at epoch 4:  0.86535376\n",
            "Train loss at epoch 5:  0.28772736\n",
            "Train Acc at epoch 5:  0.87000364\n",
            "Eval loss at epoch 5:  0.31525826\n",
            "Eval Acc at epoch 5:  0.8742022\n",
            "Train loss at epoch 6:  0.25595278\n",
            "Train Acc at epoch 6:  0.87783974\n",
            "Eval loss at epoch 6:  0.29137748\n",
            "Eval Acc at epoch 6:  0.88127774\n",
            "Train loss at epoch 7:  0.22802193\n",
            "Train Acc at epoch 7:  0.8842828\n",
            "Eval loss at epoch 7:  0.26948914\n",
            "Eval Acc at epoch 7:  0.88725656\n",
            "Train loss at epoch 8:  0.2101856\n",
            "Train Acc at epoch 8:  0.88989764\n",
            "Eval loss at epoch 8:  0.25941524\n",
            "Eval Acc at epoch 8:  0.89247864\n",
            "Train loss at epoch 9:  0.19734898\n",
            "Train Acc at epoch 9:  0.89468426\n",
            "Eval loss at epoch 9:  0.2538911\n",
            "Eval Acc at epoch 9:  0.8968756\n",
            "Train loss at epoch 10:  0.18594489\n",
            "Train Acc at epoch 10:  0.8987931\n",
            "Eval loss at epoch 10:  0.24886592\n",
            "Eval Acc at epoch 10:  0.90074474\n",
            "Train loss at epoch 11:  0.17511702\n",
            "Train Acc at epoch 11:  0.90243584\n",
            "Eval loss at epoch 11:  0.24601275\n",
            "Eval Acc at epoch 11:  0.90415406\n",
            "Train loss at epoch 12:  0.17026226\n",
            "Train Acc at epoch 12:  0.9055465\n",
            "Eval loss at epoch 12:  0.25035706\n",
            "Eval Acc at epoch 12:  0.90700173\n",
            "Train loss at epoch 13:  0.1500252\n",
            "Train Acc at epoch 13:  0.9084403\n",
            "Eval loss at epoch 13:  0.23566572\n",
            "Eval Acc at epoch 13:  0.90999746\n",
            "Train loss at epoch 14:  0.141253\n",
            "Train Acc at epoch 14:  0.9113573\n",
            "Eval loss at epoch 14:  0.23577356\n",
            "Eval Acc at epoch 14:  0.9128049\n",
            "Train loss at epoch 15:  0.13520707\n",
            "Train Acc at epoch 15:  0.91403466\n",
            "Eval loss at epoch 15:  0.23799595\n",
            "Eval Acc at epoch 15:  0.9153332\n"
          ]
        }
      ]
    },
    {
      "cell_type": "markdown",
      "source": [
        "The model stops converging at Epoch 15. [Early Stopping comes into play here]\n",
        "\n",
        "\n",
        "Final Validation Acc: 0.9155\n",
        "\n"
      ],
      "metadata": {
        "id": "tTxnFwxdwbp4"
      }
    },
    {
      "cell_type": "markdown",
      "source": [
        "**Let's test the model and check the test accuracy**"
      ],
      "metadata": {
        "id": "kaTAr2Gvwhc0"
      }
    },
    {
      "cell_type": "code",
      "source": [
        "isittraining = False\n",
        "for step, (images, target) in enumerate(test_dataset):\n",
        "  loss = model.loss_fn(images, target, isittraining)\n",
        "  accuracy = model.compute_accuracy(images,target,isittraining)\n",
        "  acc_test(accuracy)\n",
        "  test_accuracy.append(acc_test.result().numpy())\n",
        "\n",
        "  acc_test.reset_states()"
      ],
      "metadata": {
        "id": "WVOr4uIcwg0t"
      },
      "execution_count": 49,
      "outputs": []
    },
    {
      "cell_type": "code",
      "source": [
        "test_mean = np.mean(test_accuracy)"
      ],
      "metadata": {
        "id": "AuoBFmQmwb0x"
      },
      "execution_count": 50,
      "outputs": []
    },
    {
      "cell_type": "code",
      "source": [
        "test_mean"
      ],
      "metadata": {
        "colab": {
          "base_uri": "https://localhost:8080/"
        },
        "id": "qPiQlUe-wmCo",
        "outputId": "313e70c8-00a0-43aa-f968-26fcf609e302"
      },
      "execution_count": 51,
      "outputs": [
        {
          "output_type": "execute_result",
          "data": {
            "text/plain": [
              "0.9130197"
            ]
          },
          "metadata": {},
          "execution_count": 51
        }
      ]
    },
    {
      "cell_type": "code",
      "source": [
        "\n",
        "loss_train = model.history['train_loss']\n",
        "loss_val = model.history['eval_loss']\n",
        "epochs = range(len(model.history['eval_loss']))\n",
        "plt.plot(epochs, loss_train, 'g', label='train_loss')\n",
        "plt.plot(epochs, loss_val, 'b', label='validation loss')\n",
        "plt.title('Training and Validation loss')\n",
        "plt.xlabel('Epochs')\n",
        "plt.ylabel('Loss')\n",
        "plt.legend()\n",
        "plt.show()"
      ],
      "metadata": {
        "colab": {
          "base_uri": "https://localhost:8080/",
          "height": 295
        },
        "id": "g3lZJK5MwmJx",
        "outputId": "7183ae3c-7576-4af0-c7cd-ec82d954b91c"
      },
      "execution_count": 52,
      "outputs": [
        {
          "output_type": "display_data",
          "data": {
            "text/plain": [
              "<Figure size 432x288 with 1 Axes>"
            ],
            "image/png": "[encoded data removed]"
          },
          "metadata": {
            "needs_background": "light"
          }
        }
      ]
    },
    {
      "cell_type": "markdown",
      "source": [
        "**Third Run : Let's train the model**"
      ],
      "metadata": {
        "id": "1D_9kbAbwVTx"
      }
    },
    {
      "cell_type": "code",
      "source": [
        "# Train and Test model\n",
        "isittraining = True\n",
        "acc_test = tf.keras.metrics.Mean('test_acc')\n",
        "\n",
        "seeds = np.random.randint(12,45,3)\n",
        "test_accuracy = []\n",
        "\n",
        "# for i in seeds:\n",
        "  # Instantiate model. This doesn't initialize the variables yet.\n",
        "model = ImageRecognitionCNN(num_classes=10, device=device, \n",
        "                              checkpoint_directory=checkpoint_directory)\n",
        "# print('Trial on random seed:',i)\n",
        "model.fit_fc(train_dataset, val_dataset, optimizer, isittraining, num_epochs=20, \n",
        "          early_stopping_rounds=2, verbose=1, train_from_scratch=True)\n",
        "\n",
        "# Compute the loss on the eval data after one epoch\n",
        "for step, (images, target) in enumerate(test_dataset):\n",
        "  loss = model.loss_fn(images, target, isittraining)\n",
        "  accuracy = model.compute_accuracy(images,target,isittraining)\n",
        "  acc_test(accuracy)\n",
        "  test_accuracy.append(acc_test.result().numpy())\n",
        "\n",
        "  acc_test.reset_states()\n"
      ],
      "metadata": {
        "colab": {
          "base_uri": "https://localhost:8080/"
        },
        "id": "2hLsY97OwYzK",
        "outputId": "3a64791b-4565-43bf-b1bd-f4d745369d11"
      },
      "execution_count": 53,
      "outputs": [
        {
          "output_type": "stream",
          "name": "stdout",
          "text": [
            "Train loss at epoch 1:  0.5317939\n",
            "Train Acc at epoch 1:  0.86808217\n",
            "Eval loss at epoch 1:  0.54148966\n",
            "Eval Acc at epoch 1:  0.8691101\n",
            "Train loss at epoch 2:  0.3552261\n",
            "Train Acc at epoch 2:  0.8757179\n",
            "Eval loss at epoch 2:  0.37249634\n",
            "Eval Acc at epoch 2:  0.88118464\n",
            "Train loss at epoch 3:  0.2921354\n",
            "Train Acc at epoch 3:  0.885631\n",
            "Eval loss at epoch 3:  0.31600398\n",
            "Eval Acc at epoch 3:  0.8894253\n",
            "Train loss at epoch 4:  0.25589758\n",
            "Train Acc at epoch 4:  0.89294434\n",
            "Eval loss at epoch 4:  0.2873597\n",
            "Eval Acc at epoch 4:  0.8960464\n",
            "Train loss at epoch 5:  0.2387591\n",
            "Train Acc at epoch 5:  0.898411\n",
            "Eval loss at epoch 5:  0.27907115\n",
            "Eval Acc at epoch 5:  0.9005812\n",
            "Train loss at epoch 6:  0.21657899\n",
            "Train Acc at epoch 6:  0.90275663\n",
            "Eval loss at epoch 6:  0.26291722\n",
            "Eval Acc at epoch 6:  0.9049333\n",
            "Train loss at epoch 7:  0.20153303\n",
            "Train Acc at epoch 7:  0.9067088\n",
            "Eval loss at epoch 7:  0.25668195\n",
            "Eval Acc at epoch 7:  0.90844303\n",
            "Train loss at epoch 8:  0.18888746\n",
            "Train Acc at epoch 8:  0.90998214\n",
            "Eval loss at epoch 8:  0.25034383\n",
            "Eval Acc at epoch 8:  0.911523\n",
            "Train loss at epoch 9:  0.17835824\n",
            "Train Acc at epoch 9:  0.9128619\n",
            "Eval loss at epoch 9:  0.24826735\n",
            "Eval Acc at epoch 9:  0.9142862\n",
            "Train loss at epoch 10:  0.16398098\n",
            "Train Acc at epoch 10:  0.9155235\n",
            "Eval loss at epoch 10:  0.24075666\n",
            "Eval Acc at epoch 10:  0.91686964\n",
            "Train loss at epoch 11:  0.15454182\n",
            "Train Acc at epoch 11:  0.91802853\n",
            "Eval loss at epoch 11:  0.24000756\n",
            "Eval Acc at epoch 11:  0.91930276\n",
            "Train loss at epoch 12:  0.15157242\n",
            "Train Acc at epoch 12:  0.9203101\n",
            "Eval loss at epoch 12:  0.24302551\n",
            "Eval Acc at epoch 12:  0.9213853\n",
            "Train loss at epoch 13:  0.13962936\n",
            "Train Acc at epoch 13:  0.92237335\n",
            "Eval loss at epoch 13:  0.24039266\n",
            "Eval Acc at epoch 13:  0.92341673\n"
          ]
        }
      ]
    },
    {
      "cell_type": "markdown",
      "source": [
        "The model stops converging at Epoch 13. [Early Stopping comes into play here]\n",
        "\n",
        "\n",
        "Final Validation Acc: 0.9234"
      ],
      "metadata": {
        "id": "ZgJQibwswnpG"
      }
    },
    {
      "cell_type": "markdown",
      "source": [
        "**Let's test the model and check the test accuracy**"
      ],
      "metadata": {
        "id": "lxd03CIOwnxR"
      }
    },
    {
      "cell_type": "code",
      "source": [
        "isittraining = False\n",
        "for step, (images, target) in enumerate(test_dataset):\n",
        "  loss = model.loss_fn(images, target, isittraining)\n",
        "  accuracy = model.compute_accuracy(images,target,isittraining)\n",
        "  acc_test(accuracy)\n",
        "  test_accuracy.append(acc_test.result().numpy())\n",
        "\n",
        "  acc_test.reset_states()"
      ],
      "metadata": {
        "id": "6mSfW6fPwosf"
      },
      "execution_count": 54,
      "outputs": []
    },
    {
      "cell_type": "code",
      "source": [
        "test_mean = np.mean(test_accuracy)"
      ],
      "metadata": {
        "id": "5athBGFqwozI"
      },
      "execution_count": 55,
      "outputs": []
    },
    {
      "cell_type": "code",
      "source": [
        "test_mean"
      ],
      "metadata": {
        "colab": {
          "base_uri": "https://localhost:8080/"
        },
        "id": "fHLgixh2wo5T",
        "outputId": "27286672-0efe-4822-cc5f-6ef52a8cff88"
      },
      "execution_count": 56,
      "outputs": [
        {
          "output_type": "execute_result",
          "data": {
            "text/plain": [
              "0.9205788"
            ]
          },
          "metadata": {},
          "execution_count": 56
        }
      ]
    },
    {
      "cell_type": "code",
      "source": [
        "\n",
        "loss_train = model.history['train_loss']\n",
        "loss_val = model.history['eval_loss']\n",
        "epochs = range(len(model.history['eval_loss']))\n",
        "plt.plot(epochs, loss_train, 'g', label='train_loss')\n",
        "plt.plot(epochs, loss_val, 'b', label='validation loss')\n",
        "plt.title('Training and Validation loss')\n",
        "plt.xlabel('Epochs')\n",
        "plt.ylabel('Loss')\n",
        "plt.legend()\n",
        "plt.show()"
      ],
      "metadata": {
        "colab": {
          "base_uri": "https://localhost:8080/",
          "height": 295
        },
        "id": "4UJF5KOywo_c",
        "outputId": "684e0063-e503-4cc5-ee7f-ab33a5228bb6"
      },
      "execution_count": 57,
      "outputs": [
        {
          "output_type": "display_data",
          "data": {
            "text/plain": [
              "<Figure size 432x288 with 1 Axes>"
            ],
            "image/png": "[encoded data removed]"
          },
          "metadata": {
            "needs_background": "light"
          }
        }
      ]
    },
    {
      "cell_type": "markdown",
      "metadata": {
        "id": "d0-SgDjkrFkd"
      },
      "source": [
        "##**Model 2: Performing Batch Normalization Before RELU**"
      ]
    },
    {
      "cell_type": "code",
      "source": [
        "class ImageRecognitionCNN(tf.keras.Model):\n",
        "    \n",
        "    def __init__(self, num_classes, device='cpu:0', checkpoint_directory=None):\n",
        "        ''' Define the parameterized layers used during forward-pass, the device\n",
        "            where you would like to run the computation (GPU, TPU, CPU) on and the checkpoint\n",
        "            directory.\n",
        "            \n",
        "            Args:\n",
        "                num_classes: the number of labels in the network.\n",
        "                device: string, 'cpu:n' or 'gpu:n' (n can vary). Default, 'cpu:0'.\n",
        "                checkpoint_directory: the directory where you would like to save or \n",
        "                                      restore a model.\n",
        "        ''' \n",
        "        super(ImageRecognitionCNN, self).__init__()\n",
        "        \n",
        "        # Initialize layers\n",
        "        self.conv1 = tf.keras.layers.Conv2D(64, 3, padding='same', activation=None)\n",
        "        self.conv2 = tf.keras.layers.Conv2D(64, 3,padding='same', activation=None)\n",
        "        self.pool1 = tf.keras.layers.MaxPool2D()\n",
        "        self.conv3 = tf.keras.layers.Conv2D(64, 3, padding='same', activation=None)\n",
        "        self.conv4 = tf.keras.layers.Conv2D(64, 3, padding='same', activation=None)\n",
        "        self.BatchNorm=BatchNorm(64)\n",
        "        # self.pool2 = tf.keras.layers.MaxPool2D()\n",
        "        # self.conv5 = tf.keras.layers.Conv2D(64, 3, padding='same', activation=None)\n",
        "        # self.pool2 = tf.keras.layers.MaxPool2D()\n",
        "        # self.conv6 = tf.keras.layers.Conv2D(64, 3, 2, padding='same', activation=None)\n",
        "        # self.conv7 = tf.keras.layers.Conv2D(64, 1, padding='same', activation=None)\n",
        "        self.conv8 = tf.keras.layers.Conv2D(num_classes, 1, padding='same', activation=None)\n",
        "        \n",
        "        # Define the device \n",
        "        self.device = device\n",
        "        \n",
        "        # Define the checkpoint directory\n",
        "        self.checkpoint_directory = checkpoint_directory\n",
        "        self.acc = tf.keras.metrics.Accuracy()\n",
        "\n",
        "\n",
        "    def predict(self, images, training):\n",
        "        \"\"\" Predicts the probability of each class, based on the input sample.\n",
        "            \n",
        "            Args:\n",
        "                images: 4D tensor. Either an image or a batch of images.\n",
        "                training: Boolean. Either the network is predicting in\n",
        "                          training mode or not.\n",
        "                         \n",
        "\n",
        "\n",
        "        \"\"\"\n",
        "        x = self.conv1(images)\n",
        "\n",
        "\n",
        "        # Layer 1:\n",
        "        x=self.BatchNorm(x,training)\n",
        "        x = tf.nn.relu(x)\n",
        "        x = self.pool1(x)\n",
        "        x = self.conv2(x)\n",
        "      \n",
        "        # Layer 2:\n",
        "        x=self.BatchNorm(x,training)\n",
        "        x = tf.nn.relu(x)\n",
        "        x = self.pool1(x)\n",
        "        x = self.conv3(x)\n",
        "\n",
        "        #Layer 3:\n",
        "        x=self.BatchNorm(x,training)\n",
        "        x = tf.nn.relu(x)\n",
        "        x = self.pool1(x)\n",
        "        x = self.conv4(x)\n",
        "\n",
        "        # Layer 4:\n",
        "        x=self.BatchNorm(x,training)\n",
        "        x = tf.nn.relu(x)\n",
        "        x = self.pool1(x)\n",
        "        x = self.conv8(x)\n",
        "\n",
        "\n",
        "        x = tf.reshape(x, (-1, 1, 10)) # Shape mismatch error if x has a shape of 128. We need to reshape it to 10 (# of O/P class = 10)\n",
        "\n",
        "        return x\n",
        "\n",
        "\n",
        "\n",
        "    def loss_fn(self, images, target, training):\n",
        "        \"\"\" Defines the loss function used during \n",
        "            training.         \n",
        "        \"\"\"\n",
        "        preds = self.predict(images, training)\n",
        "        loss = tf.nn.softmax_cross_entropy_with_logits(labels=target, logits=preds)\n",
        "        return loss\n",
        "\n",
        "\n",
        "    def grads_fn(self, images, target, training):\n",
        "        \"\"\" Dynamically computes the gradients of the loss value\n",
        "            with respect to the parameters of the model, in each\n",
        "            forward pass.\n",
        "        \"\"\"\n",
        "        with tf.GradientTape() as tape:\n",
        "            loss = self.loss_fn(images, target, training)\n",
        "        return tape.gradient(loss, self.variables)\n",
        "    \n",
        "    def restore_model(self):\n",
        "        \"\"\" Function to restore trained model.\n",
        "        \"\"\"\n",
        "        with tf.device(self.device):\n",
        "            # Run the model once to initialize variables\n",
        "            dummy_input = tf.constant(tf.zeros((1,48,48,1)))\n",
        "            dummy_pred = self.predict(dummy_input, training=True)\n",
        "            # Restore the variables of the model\n",
        "            saver = tf.Saver(self.variables)\n",
        "            saver.restore(tf.train.latest_checkpoint\n",
        "                          (self.checkpoint_directory))\n",
        "    \n",
        "    def save_model(self, global_step=0):\n",
        "        \"\"\" Function to save trained model.\n",
        "        \"\"\"\n",
        "        tf.Saver(self.variables).save(self.checkpoint_directory, \n",
        "                                       global_step=global_step)   \n",
        "    \n",
        "\n",
        "    def compute_accuracy(self, images, targets,isittraining):\n",
        "        \"\"\" Compute the accuracy on the input data.\n",
        "        \"\"\"\n",
        "        with tf.device(self.device):\n",
        "            \n",
        "            # Predict the probability of each class\n",
        "            logits = self.predict(images, training=isittraining)\n",
        "            # Select the class with the highest probability\n",
        "            \n",
        "            logits = tf.nn.softmax(logits)\n",
        "            logits = tf.reshape(logits, [-1, 10])\n",
        "            targets = tf.reshape(targets, [-1,10])\n",
        "            preds = tf.argmax(logits, axis=1)\n",
        "            goal = tf.argmax(targets, axis=1)\n",
        "            self.acc.update_state(goal, preds)\n",
        "            # Compute the accuracy\n",
        "            result = self.acc.result().numpy()\n",
        "        return result\n",
        "\n",
        "  \n",
        "    def fit_fc(self, training_data, eval_data, optimizer, isittraining, num_epochs=500, early_stopping_rounds=10, verbose=10, train_from_scratch=False):\n",
        "        \"\"\" Function to train the model, using the selected optimizer and\n",
        "            for the desired number of epochs. You can either train from scratch\n",
        "            or load the latest model trained. Early stopping is used in order to\n",
        "            mitigate the risk of overfitting the network.\n",
        "            \n",
        "            Args:\n",
        "                training_data: the data you would like to train the model on.\n",
        "                                Must be in the tf.data.Dataset format.\n",
        "                eval_data: the data you would like to evaluate the model on.\n",
        "                            Must be in the tf.data.Dataset format.\n",
        "                optimizer: the optimizer used during training.\n",
        "                num_epochs: the maximum number of iterations you would like to \n",
        "                            train the model.\n",
        "                early_stopping_rounds: stop training if the loss on the eval \n",
        "                                       dataset does not decrease after n epochs.\n",
        "                verbose: int. Specify how often to print the loss value of the network.\n",
        "                train_from_scratch: boolean. Whether to initialize variables of the\n",
        "                                    the last trained model or initialize them\n",
        "                                    randomly.\n",
        "        \"\"\" \n",
        "    \n",
        "        if train_from_scratch==False:\n",
        "            self.restore_model()\n",
        "        \n",
        "        # Initialize best loss. This variable will store the lowest loss on the\n",
        "        # eval dataset.\n",
        "        best_loss = 999\n",
        "        \n",
        "        # Initialize classes to update the mean loss of train and eval\n",
        "        train_loss = tf.keras.metrics.Mean('train_loss')\n",
        "        eval_loss = tf.keras.metrics.Mean('eval_loss')\n",
        "        acc_train = tf.keras.metrics.Mean('train_acc')\n",
        "        acc_val = tf.keras.metrics.Mean('val_acc')\n",
        "        \n",
        "        # Initialize dictionary to store the loss history\n",
        "        self.history = {}\n",
        "        self.history['train_loss'] = []\n",
        "        self.history['eval_loss'] = []\n",
        "        self.history['train_acc'] = []\n",
        "        self.history['val_acc'] = []\n",
        "        \n",
        "        # Begin training\n",
        "        with tf.device(self.device):\n",
        "            for i in range(num_epochs):\n",
        "                # Training with gradient descent\n",
        "                #training_data_x = training_data.shuffle(buffer_size=1024).batch(128)\n",
        "                for step, (images, target) in enumerate(training_data):\n",
        "                    grads = self.grads_fn(images, target, isittraining)\n",
        "                    optimizer.apply_gradients(zip(grads, self.variables))\n",
        "                    \n",
        "                # Compute the loss on the training data after one epoch\n",
        "                for step, (images, target) in enumerate(training_data):\n",
        "                    loss = self.loss_fn(images, target, isittraining)\n",
        "                    accuracy = self.compute_accuracy(images,target,isittraining)\n",
        "                    acc_train(accuracy)\n",
        "                    train_loss(loss)\n",
        "                self.history['train_loss'].append(train_loss.result().numpy())\n",
        "                self.history['train_acc'].append(acc_train.result().numpy())\n",
        "                # Reset metrics\n",
        "                train_loss.reset_states()\n",
        "                acc_train.reset_states()\n",
        "                \n",
        "                # Compute the loss on the eval data after one epoch\n",
        "                for step, (images, target) in enumerate(eval_data):\n",
        "                    loss = self.loss_fn(images, target, isittraining)\n",
        "                    accuracy = self.compute_accuracy(images,target,isittraining)\n",
        "                    acc_val(accuracy)\n",
        "                    eval_loss(loss)\n",
        "                self.history['eval_loss'].append(eval_loss.result().numpy())\n",
        "                self.history['val_acc'].append(acc_val.result().numpy())\n",
        "                # Reset metrics\n",
        "                eval_loss.reset_states()\n",
        "                acc_val.reset_states()\n",
        "                \n",
        "                # Print train and eval losses\n",
        "                if (i==0) | ((i+1)%verbose==0):\n",
        "                    print('Train loss at epoch %d: ' %(i+1), self.history['train_loss'][-1])\n",
        "                    print('Train Acc at epoch %d: ' %(i+1), self.history['train_acc'][-1])\n",
        "                    \n",
        "                    print('Eval loss at epoch %d: ' %(i+1), self.history['eval_loss'][-1])\n",
        "                    print('Eval Acc at epoch %d: ' %(i+1), self.history['val_acc'][-1])\n",
        "\n",
        "                # Check for early stopping\n",
        "                if self.history['eval_loss'][-1]<best_loss:\n",
        "                    best_loss = self.history['eval_loss'][-1]\n",
        "                    count = early_stopping_rounds\n",
        "                else:\n",
        "                    count -= 1\n",
        "                if count==0:\n",
        "                    break"
      ],
      "metadata": {
        "id": "i3Q_6jqopmY_"
      },
      "execution_count": 58,
      "outputs": []
    },
    {
      "cell_type": "code",
      "source": [
        "# Specify the path where you want to save/restore the trained variables.\n",
        "checkpoint_directory = '/content/sample_data/model_checkpoint'\n",
        "\n",
        "# Use the GPU if available.\n",
        "device = 'gpu:0'\n",
        "\n",
        "# Define optimizer.\n",
        "optimizer = tf.compat.v1.train.AdamOptimizer(learning_rate=1e-4)\n",
        "\n",
        "# Instantiate model. This doesn't initialize the variables yet.\n",
        "model = ImageRecognitionCNN(num_classes=10, device=device, \n",
        "                              checkpoint_directory=checkpoint_directory)\n",
        "\n",
        "#model = ImageRecognitionCNN(num_classes=7, device=device)"
      ],
      "metadata": {
        "id": "bp_TFtUrp67F"
      },
      "execution_count": 59,
      "outputs": []
    },
    {
      "cell_type": "markdown",
      "source": [
        "**First Run : Let's train the model**"
      ],
      "metadata": {
        "id": "ziLxw3Eoqulz"
      }
    },
    {
      "cell_type": "code",
      "source": [
        "# Train and Test model\n",
        "isittraining = True\n",
        "acc_test = tf.keras.metrics.Mean('test_acc')\n",
        "\n",
        "seeds = np.random.randint(12,45,3)\n",
        "test_accuracy = []\n",
        "\n",
        "# for i in seeds:\n",
        "  # Instantiate model. This doesn't initialize the variables yet.\n",
        "model = ImageRecognitionCNN(num_classes=10, device=device, \n",
        "                              checkpoint_directory=checkpoint_directory)\n",
        "# print('Trial on random seed:',i)\n",
        "model.fit_fc(train_dataset, val_dataset, optimizer, isittraining, num_epochs=20, \n",
        "          early_stopping_rounds=2, verbose=1, train_from_scratch=True)\n",
        "\n",
        "# Compute the loss on the eval data after one epoch\n",
        "for step, (images, target) in enumerate(test_dataset):\n",
        "  loss = model.loss_fn(images, target, isittraining)\n",
        "  accuracy = model.compute_accuracy(images,target,isittraining)\n",
        "  acc_test(accuracy)\n",
        "  test_accuracy.append(acc_test.result().numpy())\n",
        "\n",
        "  acc_test.reset_states()\n"
      ],
      "metadata": {
        "colab": {
          "base_uri": "https://localhost:8080/"
        },
        "id": "eqdv8XPLqBnK",
        "outputId": "8aa5a04c-7fb9-45fe-f8eb-109acdaf69e4"
      },
      "execution_count": 41,
      "outputs": [
        {
          "output_type": "stream",
          "name": "stdout",
          "text": [
            "Train loss at epoch 1:  1.307168\n",
            "Train Acc at epoch 1:  0.78399485\n",
            "Eval loss at epoch 1:  1.3099757\n",
            "Eval Acc at epoch 1:  0.7839352\n",
            "Train loss at epoch 2:  0.74071014\n",
            "Train Acc at epoch 2:  0.7976061\n",
            "Eval loss at epoch 2:  0.74767375\n",
            "Eval Acc at epoch 2:  0.8080212\n",
            "Train loss at epoch 3:  0.5066269\n",
            "Train Acc at epoch 3:  0.81870013\n",
            "Eval loss at epoch 3:  0.51763153\n",
            "Eval Acc at epoch 3:  0.8276493\n",
            "Train loss at epoch 4:  0.3984075\n",
            "Train Acc at epoch 4:  0.8351403\n",
            "Eval loss at epoch 4:  0.41292173\n",
            "Eval Acc at epoch 4:  0.8415396\n",
            "Train loss at epoch 5:  0.33940515\n",
            "Train Acc at epoch 5:  0.84706485\n",
            "Eval loss at epoch 5:  0.35783175\n",
            "Eval Acc at epoch 5:  0.8520956\n",
            "Train loss at epoch 6:  0.2975651\n",
            "Train Acc at epoch 6:  0.8566461\n",
            "Eval loss at epoch 6:  0.32075936\n",
            "Eval Acc at epoch 6:  0.86074644\n",
            "Train loss at epoch 7:  0.2668177\n",
            "Train Acc at epoch 7:  0.8645068\n",
            "Eval loss at epoch 7:  0.2929819\n",
            "Eval Acc at epoch 7:  0.8680806\n",
            "Train loss at epoch 8:  0.24774356\n",
            "Train Acc at epoch 8:  0.87128186\n",
            "Eval loss at epoch 8:  0.27837655\n",
            "Eval Acc at epoch 8:  0.87426823\n",
            "Train loss at epoch 9:  0.22967707\n",
            "Train Acc at epoch 9:  0.8769191\n",
            "Eval loss at epoch 9:  0.2652716\n",
            "Eval Acc at epoch 9:  0.87950975\n",
            "Train loss at epoch 10:  0.21852541\n",
            "Train Acc at epoch 10:  0.8818365\n",
            "Eval loss at epoch 10:  0.2594925\n",
            "Eval Acc at epoch 10:  0.88405013\n",
            "Train loss at epoch 11:  0.2016489\n",
            "Train Acc at epoch 11:  0.88615334\n",
            "Eval loss at epoch 11:  0.246524\n",
            "Eval Acc at epoch 11:  0.8882303\n",
            "Train loss at epoch 12:  0.1931044\n",
            "Train Acc at epoch 12:  0.8900718\n",
            "Eval loss at epoch 12:  0.2442791\n",
            "Eval Acc at epoch 12:  0.89189535\n",
            "Train loss at epoch 13:  0.18553093\n",
            "Train Acc at epoch 13:  0.8935333\n",
            "Eval loss at epoch 13:  0.24234009\n",
            "Eval Acc at epoch 13:  0.8951805\n",
            "Train loss at epoch 14:  0.1741326\n",
            "Train Acc at epoch 14:  0.8967339\n",
            "Eval loss at epoch 14:  0.23693955\n",
            "Eval Acc at epoch 14:  0.89828974\n",
            "Train loss at epoch 15:  0.167363\n",
            "Train Acc at epoch 15:  0.8996994\n",
            "Eval loss at epoch 15:  0.23659062\n",
            "Eval Acc at epoch 15:  0.90111995\n",
            "Train loss at epoch 16:  0.16064009\n",
            "Train Acc at epoch 16:  0.90242815\n",
            "Eval loss at epoch 16:  0.23461463\n",
            "Eval Acc at epoch 16:  0.90375286\n",
            "Train loss at epoch 17:  0.15434664\n",
            "Train Acc at epoch 17:  0.9049279\n",
            "Eval loss at epoch 17:  0.23536307\n",
            "Eval Acc at epoch 17:  0.9061041\n",
            "Train loss at epoch 18:  0.14284155\n",
            "Train Acc at epoch 18:  0.90723926\n",
            "Eval loss at epoch 18:  0.22864106\n",
            "Eval Acc at epoch 18:  0.9084144\n",
            "Train loss at epoch 19:  0.13571523\n",
            "Train Acc at epoch 19:  0.90952325\n",
            "Eval loss at epoch 19:  0.22872928\n",
            "Eval Acc at epoch 19:  0.910664\n",
            "Train loss at epoch 20:  0.12889472\n",
            "Train Acc at epoch 20:  0.9117026\n",
            "Eval loss at epoch 20:  0.2263381\n",
            "Eval Acc at epoch 20:  0.91277593\n"
          ]
        }
      ]
    },
    {
      "cell_type": "markdown",
      "source": [
        "**Let's test the model**"
      ],
      "metadata": {
        "id": "jBmwhrG7qxH4"
      }
    },
    {
      "cell_type": "code",
      "source": [
        "isittraining = False\n",
        "for step, (images, target) in enumerate(test_dataset):\n",
        "  loss = model.loss_fn(images, target, isittraining)\n",
        "  accuracy = model.compute_accuracy(images,target,isittraining)\n",
        "  acc_test(accuracy)\n",
        "  test_accuracy.append(acc_test.result().numpy())\n",
        "\n",
        "  acc_test.reset_states()"
      ],
      "metadata": {
        "id": "7KS_6mTnqGWr"
      },
      "execution_count": 42,
      "outputs": []
    },
    {
      "cell_type": "code",
      "source": [
        "test_mean = np.mean(test_accuracy)"
      ],
      "metadata": {
        "id": "xQJroE30qKmO"
      },
      "execution_count": 43,
      "outputs": []
    },
    {
      "cell_type": "code",
      "source": [
        "test_mean"
      ],
      "metadata": {
        "colab": {
          "base_uri": "https://localhost:8080/"
        },
        "id": "S1Z3tNglqLa1",
        "outputId": "c9ca3949-40db-4008-ebaf-684b0bbc0796"
      },
      "execution_count": 44,
      "outputs": [
        {
          "output_type": "execute_result",
          "data": {
            "text/plain": [
              "0.9110058"
            ]
          },
          "metadata": {},
          "execution_count": 44
        }
      ]
    },
    {
      "cell_type": "code",
      "source": [
        "\n",
        "loss_train = model.history['train_loss']\n",
        "loss_val = model.history['eval_loss']\n",
        "epochs = range(len(model.history['eval_loss']))\n",
        "plt.plot(epochs, loss_train, 'g', label='train_loss')\n",
        "plt.plot(epochs, loss_val, 'b', label='validation loss')\n",
        "plt.title('Training and Validation loss')\n",
        "plt.xlabel('Epochs')\n",
        "plt.ylabel('Loss')\n",
        "plt.legend()\n",
        "plt.show()"
      ],
      "metadata": {
        "colab": {
          "base_uri": "https://localhost:8080/",
          "height": 295
        },
        "id": "tvdSu3CEqUCm",
        "outputId": "b1b21128-60d6-46f9-9d9f-c658bdcf5fd7"
      },
      "execution_count": 45,
      "outputs": [
        {
          "output_type": "display_data",
          "data": {
            "text/plain": [
              "<Figure size 432x288 with 1 Axes>"
            ],
            "image/png": "[encoded data removed]"
          },
          "metadata": {
            "needs_background": "light"
          }
        }
      ]
    },
    {
      "cell_type": "markdown",
      "source": [
        "**Second Run : Let's train the model**"
      ],
      "metadata": {
        "id": "a8ByA0ApyD2X"
      }
    },
    {
      "cell_type": "code",
      "source": [
        "# Train and Test model\n",
        "isittraining = True\n",
        "acc_test = tf.keras.metrics.Mean('test_acc')\n",
        "\n",
        "seeds = np.random.randint(12,45,3)\n",
        "test_accuracy = []\n",
        "\n",
        "# for i in seeds:\n",
        "  # Instantiate model. This doesn't initialize the variables yet.\n",
        "model = ImageRecognitionCNN(num_classes=10, device=device, \n",
        "                              checkpoint_directory=checkpoint_directory)\n",
        "# print('Trial on random seed:',i)\n",
        "model.fit_fc(train_dataset, val_dataset, optimizer, isittraining, num_epochs=20, \n",
        "          early_stopping_rounds=2, verbose=1, train_from_scratch=True)\n",
        "\n",
        "# Compute the loss on the eval data after one epoch\n",
        "for step, (images, target) in enumerate(test_dataset):\n",
        "  loss = model.loss_fn(images, target, isittraining)\n",
        "  accuracy = model.compute_accuracy(images,target,isittraining)\n",
        "  acc_test(accuracy)\n",
        "  test_accuracy.append(acc_test.result().numpy())\n",
        "\n",
        "  acc_test.reset_states()\n"
      ],
      "metadata": {
        "colab": {
          "base_uri": "https://localhost:8080/"
        },
        "id": "hWayqxrvyS1E",
        "outputId": "9448d18f-0ed3-47ff-b9ff-91affeed9475"
      },
      "execution_count": 60,
      "outputs": [
        {
          "output_type": "stream",
          "name": "stdout",
          "text": [
            "Train loss at epoch 1:  1.2706825\n",
            "Train Acc at epoch 1:  0.7761666\n",
            "Eval loss at epoch 1:  1.2730173\n",
            "Eval Acc at epoch 1:  0.7774605\n",
            "Train loss at epoch 2:  0.7305022\n",
            "Train Acc at epoch 2:  0.79378486\n",
            "Eval loss at epoch 2:  0.7363998\n",
            "Eval Acc at epoch 2:  0.80617577\n",
            "Train loss at epoch 3:  0.5013961\n",
            "Train Acc at epoch 3:  0.81756413\n",
            "Eval loss at epoch 3:  0.512344\n",
            "Eval Acc at epoch 3:  0.82692486\n",
            "Train loss at epoch 4:  0.39496726\n",
            "Train Acc at epoch 4:  0.83482575\n",
            "Eval loss at epoch 4:  0.4102286\n",
            "Eval Acc at epoch 4:  0.84181124\n",
            "Train loss at epoch 5:  0.33416712\n",
            "Train Acc at epoch 5:  0.84787333\n",
            "Eval loss at epoch 5:  0.3533603\n",
            "Eval Acc at epoch 5:  0.8531874\n",
            "Train loss at epoch 6:  0.29283902\n",
            "Train Acc at epoch 6:  0.857839\n",
            "Eval loss at epoch 6:  0.31489357\n",
            "Eval Acc at epoch 6:  0.8621456\n",
            "Train loss at epoch 7:  0.2675573\n",
            "Train Acc at epoch 7:  0.86585474\n",
            "Eval loss at epoch 7:  0.29497507\n",
            "Eval Acc at epoch 7:  0.86933243\n",
            "Train loss at epoch 8:  0.24812518\n",
            "Train Acc at epoch 8:  0.87240094\n",
            "Eval loss at epoch 8:  0.28132135\n",
            "Eval Acc at epoch 8:  0.87527686\n",
            "Train loss at epoch 9:  0.22800408\n",
            "Train Acc at epoch 9:  0.8780054\n",
            "Eval loss at epoch 9:  0.26465634\n",
            "Eval Acc at epoch 9:  0.8806775\n",
            "Train loss at epoch 10:  0.21100557\n",
            "Train Acc at epoch 10:  0.88312125\n",
            "Eval loss at epoch 10:  0.25288293\n",
            "Eval Acc at epoch 10:  0.88551813\n",
            "Train loss at epoch 11:  0.2049993\n",
            "Train Acc at epoch 11:  0.8874874\n",
            "Eval loss at epoch 11:  0.25349936\n",
            "Eval Acc at epoch 11:  0.8894599\n",
            "Train loss at epoch 12:  0.19203559\n",
            "Train Acc at epoch 12:  0.8913153\n",
            "Eval loss at epoch 12:  0.24611843\n",
            "Eval Acc at epoch 12:  0.89313257\n",
            "Train loss at epoch 13:  0.17804916\n",
            "Train Acc at epoch 13:  0.8948556\n",
            "Eval loss at epoch 13:  0.23698233\n",
            "Eval Acc at epoch 13:  0.8966208\n",
            "Train loss at epoch 14:  0.1686843\n",
            "Train Acc at epoch 14:  0.89820063\n",
            "Eval loss at epoch 14:  0.23305069\n",
            "Eval Acc at epoch 14:  0.89978296\n",
            "Train loss at epoch 15:  0.16085054\n",
            "Train Acc at epoch 15:  0.90123355\n",
            "Eval loss at epoch 15:  0.23115405\n",
            "Eval Acc at epoch 15:  0.9026609\n",
            "Train loss at epoch 16:  0.15355802\n",
            "Train Acc at epoch 16:  0.9040061\n",
            "Eval loss at epoch 16:  0.2288101\n",
            "Eval Acc at epoch 16:  0.9053482\n",
            "Train loss at epoch 17:  0.14941081\n",
            "Train Acc at epoch 17:  0.9065761\n",
            "Eval loss at epoch 17:  0.23258816\n",
            "Eval Acc at epoch 17:  0.9078202\n",
            "Train loss at epoch 18:  0.1344557\n",
            "Train Acc at epoch 18:  0.9090283\n",
            "Eval loss at epoch 18:  0.22201492\n",
            "Eval Acc at epoch 18:  0.91025\n",
            "Train loss at epoch 19:  0.13690467\n",
            "Train Acc at epoch 19:  0.91129065\n",
            "Eval loss at epoch 19:  0.22989473\n",
            "Eval Acc at epoch 19:  0.91230863\n",
            "Train loss at epoch 20:  0.12196393\n",
            "Train Acc at epoch 20:  0.91336936\n",
            "Eval loss at epoch 20:  0.22172657\n",
            "Eval Acc at epoch 20:  0.91444916\n"
          ]
        }
      ]
    },
    {
      "cell_type": "markdown",
      "source": [
        "**Let's test the model**"
      ],
      "metadata": {
        "id": "4uYTVviwybpG"
      }
    },
    {
      "cell_type": "code",
      "source": [
        "isittraining = False\n",
        "for step, (images, target) in enumerate(test_dataset):\n",
        "  loss = model.loss_fn(images, target, isittraining)\n",
        "  accuracy = model.compute_accuracy(images,target,isittraining)\n",
        "  acc_test(accuracy)\n",
        "  test_accuracy.append(acc_test.result().numpy())\n",
        "\n",
        "  acc_test.reset_states()"
      ],
      "metadata": {
        "id": "muWjBjnayS60"
      },
      "execution_count": 61,
      "outputs": []
    },
    {
      "cell_type": "code",
      "source": [
        "test_mean = np.mean(test_accuracy)"
      ],
      "metadata": {
        "id": "BqBAfmlcyzxw"
      },
      "execution_count": 62,
      "outputs": []
    },
    {
      "cell_type": "code",
      "source": [
        "test_mean"
      ],
      "metadata": {
        "colab": {
          "base_uri": "https://localhost:8080/"
        },
        "id": "ZzDdL-DYy-9m",
        "outputId": "c4b258f8-827c-4e78-8555-d9eee90ed7d3"
      },
      "execution_count": 63,
      "outputs": [
        {
          "output_type": "execute_result",
          "data": {
            "text/plain": [
              "0.91278327"
            ]
          },
          "metadata": {},
          "execution_count": 63
        }
      ]
    },
    {
      "cell_type": "code",
      "source": [
        "\n",
        "loss_train = model.history['train_loss']\n",
        "loss_val = model.history['eval_loss']\n",
        "epochs = range(len(model.history['eval_loss']))\n",
        "plt.plot(epochs, loss_train, 'g', label='train_loss')\n",
        "plt.plot(epochs, loss_val, 'b', label='validation loss')\n",
        "plt.title('Training and Validation loss')\n",
        "plt.xlabel('Epochs')\n",
        "plt.ylabel('Loss')\n",
        "plt.legend()\n",
        "plt.show()"
      ],
      "metadata": {
        "colab": {
          "base_uri": "https://localhost:8080/",
          "height": 295
        },
        "id": "YRMz8NISzAsu",
        "outputId": "44154a5e-a32f-4dd6-aa5d-08a999615741"
      },
      "execution_count": 64,
      "outputs": [
        {
          "output_type": "display_data",
          "data": {
            "text/plain": [
              "<Figure size 432x288 with 1 Axes>"
            ],
            "image/png": "[encoded data removed]"
          },
          "metadata": {
            "needs_background": "light"
          }
        }
      ]
    },
    {
      "cell_type": "markdown",
      "source": [
        "**Third Run : Let's train the model**"
      ],
      "metadata": {
        "id": "QWQKqZRVyM7j"
      }
    },
    {
      "cell_type": "code",
      "source": [
        "# Train and Test model\n",
        "isittraining = True\n",
        "acc_test = tf.keras.metrics.Mean('test_acc')\n",
        "\n",
        "seeds = np.random.randint(12,45,3)\n",
        "test_accuracy = []\n",
        "\n",
        "# for i in seeds:\n",
        "  # Instantiate model. This doesn't initialize the variables yet.\n",
        "model = ImageRecognitionCNN(num_classes=10, device=device, \n",
        "                              checkpoint_directory=checkpoint_directory)\n",
        "# print('Trial on random seed:',i)\n",
        "model.fit_fc(train_dataset, val_dataset, optimizer, isittraining, num_epochs=20, \n",
        "          early_stopping_rounds=2, verbose=1, train_from_scratch=True)\n",
        "\n",
        "# Compute the loss on the eval data after one epoch\n",
        "for step, (images, target) in enumerate(test_dataset):\n",
        "  loss = model.loss_fn(images, target, isittraining)\n",
        "  accuracy = model.compute_accuracy(images,target,isittraining)\n",
        "  acc_test(accuracy)\n",
        "  test_accuracy.append(acc_test.result().numpy())\n",
        "\n",
        "  acc_test.reset_states()\n"
      ],
      "metadata": {
        "colab": {
          "base_uri": "https://localhost:8080/"
        },
        "id": "ws8cSA5aycmS",
        "outputId": "dc885968-1d58-4b7e-8f17-d6bf980ee31a"
      },
      "execution_count": 65,
      "outputs": [
        {
          "output_type": "stream",
          "name": "stdout",
          "text": [
            "Train loss at epoch 1:  0.5705997\n",
            "Train Acc at epoch 1:  0.8601639\n",
            "Eval loss at epoch 1:  0.5803009\n",
            "Eval Acc at epoch 1:  0.8598454\n",
            "Train loss at epoch 2:  0.3848209\n",
            "Train Acc at epoch 2:  0.86650544\n",
            "Eval loss at epoch 2:  0.4001526\n",
            "Eval Acc at epoch 2:  0.87189204\n",
            "Train loss at epoch 3:  0.31534705\n",
            "Train Acc at epoch 3:  0.87697095\n",
            "Eval loss at epoch 3:  0.33559278\n",
            "Eval Acc at epoch 3:  0.8813884\n",
            "Train loss at epoch 4:  0.27905273\n",
            "Train Acc at epoch 4:  0.885123\n",
            "Eval loss at epoch 4:  0.30615917\n",
            "Eval Acc at epoch 4:  0.88837373\n",
            "Train loss at epoch 5:  0.25345364\n",
            "Train Acc at epoch 5:  0.8911967\n",
            "Eval loss at epoch 5:  0.28588325\n",
            "Eval Acc at epoch 5:  0.8937347\n",
            "Train loss at epoch 6:  0.23184039\n",
            "Train Acc at epoch 6:  0.8961512\n",
            "Eval loss at epoch 6:  0.26992777\n",
            "Eval Acc at epoch 6:  0.89842474\n",
            "Train loss at epoch 7:  0.2148475\n",
            "Train Acc at epoch 7:  0.90047026\n",
            "Eval loss at epoch 7:  0.2590698\n",
            "Eval Acc at epoch 7:  0.9024523\n",
            "Train loss at epoch 8:  0.20560348\n",
            "Train Acc at epoch 8:  0.9041414\n",
            "Eval loss at epoch 8:  0.2561379\n",
            "Eval Acc at epoch 8:  0.90573275\n",
            "Train loss at epoch 9:  0.18812324\n",
            "Train Acc at epoch 9:  0.9073124\n",
            "Eval loss at epoch 9:  0.24495818\n",
            "Eval Acc at epoch 9:  0.9089092\n",
            "Train loss at epoch 10:  0.1839758\n",
            "Train Acc at epoch 10:  0.9102442\n",
            "Eval loss at epoch 10:  0.2465958\n",
            "Eval Acc at epoch 10:  0.91153145\n",
            "Train loss at epoch 11:  0.17274758\n",
            "Train Acc at epoch 11:  0.91278565\n",
            "Eval loss at epoch 11:  0.24418767\n",
            "Eval Acc at epoch 11:  0.91401154\n",
            "Train loss at epoch 12:  0.16158563\n",
            "Train Acc at epoch 12:  0.9151574\n",
            "Eval loss at epoch 12:  0.2379077\n",
            "Eval Acc at epoch 12:  0.9163456\n",
            "Train loss at epoch 13:  0.15545522\n",
            "Train Acc at epoch 13:  0.91741866\n",
            "Eval loss at epoch 13:  0.23791122\n",
            "Eval Acc at epoch 13:  0.9184855\n",
            "Train loss at epoch 14:  0.14737657\n",
            "Train Acc at epoch 14:  0.9194773\n",
            "Eval loss at epoch 14:  0.23655981\n",
            "Eval Acc at epoch 14:  0.9204869\n",
            "Train loss at epoch 15:  0.13949718\n",
            "Train Acc at epoch 15:  0.92140365\n",
            "Eval loss at epoch 15:  0.23479927\n",
            "Eval Acc at epoch 15:  0.9223351\n",
            "Train loss at epoch 16:  0.1331318\n",
            "Train Acc at epoch 16:  0.9232313\n",
            "Eval loss at epoch 16:  0.23556733\n",
            "Eval Acc at epoch 16:  0.92412287\n",
            "Train loss at epoch 17:  0.12543687\n",
            "Train Acc at epoch 17:  0.9249909\n",
            "Eval loss at epoch 17:  0.23387486\n",
            "Eval Acc at epoch 17:  0.9258605\n",
            "Train loss at epoch 18:  0.11686142\n",
            "Train Acc at epoch 18:  0.92670506\n",
            "Eval loss at epoch 18:  0.2324244\n",
            "Eval Acc at epoch 18:  0.927569\n",
            "Train loss at epoch 19:  0.1151536\n",
            "Train Acc at epoch 19:  0.9283142\n",
            "Eval loss at epoch 19:  0.2367935\n",
            "Eval Acc at epoch 19:  0.9290787\n",
            "Train loss at epoch 20:  0.1093617\n",
            "Train Acc at epoch 20:  0.92981756\n",
            "Eval loss at epoch 20:  0.23703425\n",
            "Eval Acc at epoch 20:  0.9305446\n"
          ]
        }
      ]
    },
    {
      "cell_type": "markdown",
      "source": [
        "**Let's test the model**"
      ],
      "metadata": {
        "id": "KM1n54uYycxk"
      }
    },
    {
      "cell_type": "code",
      "source": [
        "isittraining = False\n",
        "for step, (images, target) in enumerate(test_dataset):\n",
        "  loss = model.loss_fn(images, target, isittraining)\n",
        "  accuracy = model.compute_accuracy(images,target,isittraining)\n",
        "  acc_test(accuracy)\n",
        "  test_accuracy.append(acc_test.result().numpy())\n",
        "\n",
        "  acc_test.reset_states()"
      ],
      "metadata": {
        "id": "1Jwqt87xywEN"
      },
      "execution_count": 66,
      "outputs": []
    },
    {
      "cell_type": "code",
      "source": [
        "test_mean = np.mean(test_accuracy)"
      ],
      "metadata": {
        "id": "alB76Bcwy8rb"
      },
      "execution_count": 67,
      "outputs": []
    },
    {
      "cell_type": "code",
      "source": [
        "test_mean"
      ],
      "metadata": {
        "colab": {
          "base_uri": "https://localhost:8080/"
        },
        "id": "YS7OLYWqzBtG",
        "outputId": "8cc39502-c482-4969-f41f-86562b60f4e0"
      },
      "execution_count": 68,
      "outputs": [
        {
          "output_type": "execute_result",
          "data": {
            "text/plain": [
              "0.9288417"
            ]
          },
          "metadata": {},
          "execution_count": 68
        }
      ]
    },
    {
      "cell_type": "code",
      "source": [
        "\n",
        "loss_train = model.history['train_loss']\n",
        "loss_val = model.history['eval_loss']\n",
        "epochs = range(len(model.history['eval_loss']))\n",
        "plt.plot(epochs, loss_train, 'g', label='train_loss')\n",
        "plt.plot(epochs, loss_val, 'b', label='validation loss')\n",
        "plt.title('Training and Validation loss')\n",
        "plt.xlabel('Epochs')\n",
        "plt.ylabel('Loss')\n",
        "plt.legend()\n",
        "plt.show()"
      ],
      "metadata": {
        "colab": {
          "base_uri": "https://localhost:8080/",
          "height": 295
        },
        "id": "_lr7d1aqzLsE",
        "outputId": "434573a4-64a2-4652-8919-957a46b30359"
      },
      "execution_count": 69,
      "outputs": [
        {
          "output_type": "display_data",
          "data": {
            "text/plain": [
              "<Figure size 432x288 with 1 Axes>"
            ],
            "image/png": "[encoded data removed]"
          },
          "metadata": {
            "needs_background": "light"
          }
        }
      ]
    }
  ],
  "metadata": {
    "accelerator": "GPU",
    "colab": {
      "collapsed_sections": [],
      "name": "IST597_CNN_with_BatchNormalization.ipynb",
      "provenance": []
    },
    "kernelspec": {
      "display_name": "Python 3",
      "name": "python3"
    },
    "language_info": {
      "name": "python"
    }
  },
  "nbformat": 4,
  "nbformat_minor": 0
}